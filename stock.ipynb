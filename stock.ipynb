{
 "cells": [
  {
   "cell_type": "code",
   "execution_count": 3,
   "metadata": {},
   "outputs": [],
   "source": [
    "\n",
    "#importing the necesary libaries \n",
    "import numpy as np \n",
    "import pandas as pd\n",
    "import matplotlib.pyplot as plt\n",
    "import seaborn as sns \n",
    "from datetime import date\n",
    "from pandas import Series, DataFrame\n",
    "from sklearn.metrics import accuracy_score\n",
    "from sklearn import metrics\n",
    "\n"
   ]
  },
  {
   "cell_type": "code",
   "execution_count": 44,
   "metadata": {},
   "outputs": [],
   "source": [
    "import pandas_datareader as pdr ##import this libraries since i  want  to scrap data from the yahoo finance website "
   ]
  },
  {
   "cell_type": "code",
   "execution_count": 45,
   "metadata": {},
   "outputs": [],
   "source": [
    "#define the start time and end time ....take a bigger time frame for ur dataset to improve the accuracy of the model \n",
    "start  = \"2010-01-01\"\n",
    "today = date.today().strftime(\"%Y-%m-%d\")"
   ]
  },
  {
   "cell_type": "code",
   "execution_count": 46,
   "metadata": {},
   "outputs": [
    {
     "data": {
      "text/html": [
       "<div>\n",
       "<style scoped>\n",
       "    .dataframe tbody tr th:only-of-type {\n",
       "        vertical-align: middle;\n",
       "    }\n",
       "\n",
       "    .dataframe tbody tr th {\n",
       "        vertical-align: top;\n",
       "    }\n",
       "\n",
       "    .dataframe thead th {\n",
       "        text-align: right;\n",
       "    }\n",
       "</style>\n",
       "<table border=\"1\" class=\"dataframe\">\n",
       "  <thead>\n",
       "    <tr style=\"text-align: right;\">\n",
       "      <th></th>\n",
       "      <th>High</th>\n",
       "      <th>Low</th>\n",
       "      <th>Open</th>\n",
       "      <th>Close</th>\n",
       "      <th>Volume</th>\n",
       "      <th>Adj Close</th>\n",
       "    </tr>\n",
       "    <tr>\n",
       "      <th>Date</th>\n",
       "      <th></th>\n",
       "      <th></th>\n",
       "      <th></th>\n",
       "      <th></th>\n",
       "      <th></th>\n",
       "      <th></th>\n",
       "    </tr>\n",
       "  </thead>\n",
       "  <tbody>\n",
       "    <tr>\n",
       "      <th>2009-12-31</th>\n",
       "      <td>7.619643</td>\n",
       "      <td>7.520000</td>\n",
       "      <td>7.611786</td>\n",
       "      <td>7.526071</td>\n",
       "      <td>352410800.0</td>\n",
       "      <td>6.452591</td>\n",
       "    </tr>\n",
       "    <tr>\n",
       "      <th>2010-01-04</th>\n",
       "      <td>7.660714</td>\n",
       "      <td>7.585000</td>\n",
       "      <td>7.622500</td>\n",
       "      <td>7.643214</td>\n",
       "      <td>493729600.0</td>\n",
       "      <td>6.553027</td>\n",
       "    </tr>\n",
       "    <tr>\n",
       "      <th>2010-01-05</th>\n",
       "      <td>7.699643</td>\n",
       "      <td>7.616071</td>\n",
       "      <td>7.664286</td>\n",
       "      <td>7.656429</td>\n",
       "      <td>601904800.0</td>\n",
       "      <td>6.564356</td>\n",
       "    </tr>\n",
       "    <tr>\n",
       "      <th>2010-01-06</th>\n",
       "      <td>7.686786</td>\n",
       "      <td>7.526786</td>\n",
       "      <td>7.656429</td>\n",
       "      <td>7.534643</td>\n",
       "      <td>552160000.0</td>\n",
       "      <td>6.459940</td>\n",
       "    </tr>\n",
       "    <tr>\n",
       "      <th>2010-01-07</th>\n",
       "      <td>7.571429</td>\n",
       "      <td>7.466071</td>\n",
       "      <td>7.562500</td>\n",
       "      <td>7.520714</td>\n",
       "      <td>477131200.0</td>\n",
       "      <td>6.447999</td>\n",
       "    </tr>\n",
       "  </tbody>\n",
       "</table>\n",
       "</div>"
      ],
      "text/plain": [
       "                High       Low      Open     Close       Volume  Adj Close\n",
       "Date                                                                      \n",
       "2009-12-31  7.619643  7.520000  7.611786  7.526071  352410800.0   6.452591\n",
       "2010-01-04  7.660714  7.585000  7.622500  7.643214  493729600.0   6.553027\n",
       "2010-01-05  7.699643  7.616071  7.664286  7.656429  601904800.0   6.564356\n",
       "2010-01-06  7.686786  7.526786  7.656429  7.534643  552160000.0   6.459940\n",
       "2010-01-07  7.571429  7.466071  7.562500  7.520714  477131200.0   6.447999"
      ]
     },
     "execution_count": 46,
     "metadata": {},
     "output_type": "execute_result"
    }
   ],
   "source": [
    "\n",
    "stock = pdr.DataReader('AAPL' , 'yahoo' , start , today )\n",
    "stock.head() #to se the start dating of ur data "
   ]
  },
  {
   "cell_type": "code",
   "execution_count": 47,
   "metadata": {},
   "outputs": [
    {
     "data": {
      "text/html": [
       "<div>\n",
       "<style scoped>\n",
       "    .dataframe tbody tr th:only-of-type {\n",
       "        vertical-align: middle;\n",
       "    }\n",
       "\n",
       "    .dataframe tbody tr th {\n",
       "        vertical-align: top;\n",
       "    }\n",
       "\n",
       "    .dataframe thead th {\n",
       "        text-align: right;\n",
       "    }\n",
       "</style>\n",
       "<table border=\"1\" class=\"dataframe\">\n",
       "  <thead>\n",
       "    <tr style=\"text-align: right;\">\n",
       "      <th></th>\n",
       "      <th>High</th>\n",
       "      <th>Low</th>\n",
       "      <th>Open</th>\n",
       "      <th>Close</th>\n",
       "      <th>Volume</th>\n",
       "      <th>Adj Close</th>\n",
       "    </tr>\n",
       "    <tr>\n",
       "      <th>Date</th>\n",
       "      <th></th>\n",
       "      <th></th>\n",
       "      <th></th>\n",
       "      <th></th>\n",
       "      <th></th>\n",
       "      <th></th>\n",
       "    </tr>\n",
       "  </thead>\n",
       "  <tbody>\n",
       "    <tr>\n",
       "      <th>2022-01-18</th>\n",
       "      <td>172.539993</td>\n",
       "      <td>169.410004</td>\n",
       "      <td>171.509995</td>\n",
       "      <td>169.800003</td>\n",
       "      <td>90956700.0</td>\n",
       "      <td>169.800003</td>\n",
       "    </tr>\n",
       "    <tr>\n",
       "      <th>2022-01-19</th>\n",
       "      <td>171.080002</td>\n",
       "      <td>165.940002</td>\n",
       "      <td>170.000000</td>\n",
       "      <td>166.229996</td>\n",
       "      <td>94815000.0</td>\n",
       "      <td>166.229996</td>\n",
       "    </tr>\n",
       "    <tr>\n",
       "      <th>2022-01-20</th>\n",
       "      <td>169.679993</td>\n",
       "      <td>164.179993</td>\n",
       "      <td>166.979996</td>\n",
       "      <td>164.509995</td>\n",
       "      <td>91420500.0</td>\n",
       "      <td>164.509995</td>\n",
       "    </tr>\n",
       "    <tr>\n",
       "      <th>2022-01-21</th>\n",
       "      <td>166.330002</td>\n",
       "      <td>162.300003</td>\n",
       "      <td>164.419998</td>\n",
       "      <td>162.410004</td>\n",
       "      <td>122501300.0</td>\n",
       "      <td>162.410004</td>\n",
       "    </tr>\n",
       "    <tr>\n",
       "      <th>2022-01-24</th>\n",
       "      <td>162.300003</td>\n",
       "      <td>154.699997</td>\n",
       "      <td>160.020004</td>\n",
       "      <td>161.619995</td>\n",
       "      <td>162294600.0</td>\n",
       "      <td>161.619995</td>\n",
       "    </tr>\n",
       "  </tbody>\n",
       "</table>\n",
       "</div>"
      ],
      "text/plain": [
       "                  High         Low        Open       Close       Volume  \\\n",
       "Date                                                                      \n",
       "2022-01-18  172.539993  169.410004  171.509995  169.800003   90956700.0   \n",
       "2022-01-19  171.080002  165.940002  170.000000  166.229996   94815000.0   \n",
       "2022-01-20  169.679993  164.179993  166.979996  164.509995   91420500.0   \n",
       "2022-01-21  166.330002  162.300003  164.419998  162.410004  122501300.0   \n",
       "2022-01-24  162.300003  154.699997  160.020004  161.619995  162294600.0   \n",
       "\n",
       "             Adj Close  \n",
       "Date                    \n",
       "2022-01-18  169.800003  \n",
       "2022-01-19  166.229996  \n",
       "2022-01-20  164.509995  \n",
       "2022-01-21  162.410004  \n",
       "2022-01-24  161.619995  "
      ]
     },
     "execution_count": 47,
     "metadata": {},
     "output_type": "execute_result"
    }
   ],
   "source": [
    "stock.tail() "
   ]
  },
  {
   "cell_type": "markdown",
   "metadata": {},
   "source": [
    "Data understanding "
   ]
  },
  {
   "cell_type": "markdown",
   "metadata": {},
   "source": [
    "The COLUMN INFO \n",
    "\n",
    "The Opening Value of the stock of the  day \n",
    "\n",
    "the Highest values of that stock of the  days\n",
    "\n",
    "The  Lowest values of that stock of the days\n",
    "\n",
    "The Closing Value at the end of the day\n",
    "\n",
    "the volume of stock sold that day \n",
    "\n",
    "The Adjusted Close Value reflects the stock’s value after dividends have been declared (too \n",
    "technical!)\n"
   ]
  },
  {
   "cell_type": "code",
   "execution_count": 8,
   "metadata": {},
   "outputs": [
    {
     "data": {
      "text/html": [
       "<div>\n",
       "<style scoped>\n",
       "    .dataframe tbody tr th:only-of-type {\n",
       "        vertical-align: middle;\n",
       "    }\n",
       "\n",
       "    .dataframe tbody tr th {\n",
       "        vertical-align: top;\n",
       "    }\n",
       "\n",
       "    .dataframe thead th {\n",
       "        text-align: right;\n",
       "    }\n",
       "</style>\n",
       "<table border=\"1\" class=\"dataframe\">\n",
       "  <thead>\n",
       "    <tr style=\"text-align: right;\">\n",
       "      <th></th>\n",
       "      <th>High</th>\n",
       "      <th>Low</th>\n",
       "      <th>Open</th>\n",
       "      <th>Close</th>\n",
       "      <th>Volume</th>\n",
       "      <th>Adj Close</th>\n",
       "    </tr>\n",
       "  </thead>\n",
       "  <tbody>\n",
       "    <tr>\n",
       "      <th>count</th>\n",
       "      <td>3037.000000</td>\n",
       "      <td>3037.000000</td>\n",
       "      <td>3037.000000</td>\n",
       "      <td>3037.000000</td>\n",
       "      <td>3.037000e+03</td>\n",
       "      <td>3037.000000</td>\n",
       "    </tr>\n",
       "    <tr>\n",
       "      <th>mean</th>\n",
       "      <td>43.778134</td>\n",
       "      <td>42.879305</td>\n",
       "      <td>43.326172</td>\n",
       "      <td>43.345497</td>\n",
       "      <td>2.694334e+08</td>\n",
       "      <td>41.623141</td>\n",
       "    </tr>\n",
       "    <tr>\n",
       "      <th>std</th>\n",
       "      <td>39.487830</td>\n",
       "      <td>38.581318</td>\n",
       "      <td>39.026410</td>\n",
       "      <td>39.050877</td>\n",
       "      <td>2.256903e+08</td>\n",
       "      <td>39.578424</td>\n",
       "    </tr>\n",
       "    <tr>\n",
       "      <th>min</th>\n",
       "      <td>7.000000</td>\n",
       "      <td>6.794643</td>\n",
       "      <td>6.870357</td>\n",
       "      <td>6.858929</td>\n",
       "      <td>4.100000e+07</td>\n",
       "      <td>5.880607</td>\n",
       "    </tr>\n",
       "    <tr>\n",
       "      <th>25%</th>\n",
       "      <td>18.676071</td>\n",
       "      <td>18.371786</td>\n",
       "      <td>18.535713</td>\n",
       "      <td>18.557501</td>\n",
       "      <td>1.090784e+08</td>\n",
       "      <td>16.236658</td>\n",
       "    </tr>\n",
       "    <tr>\n",
       "      <th>50%</th>\n",
       "      <td>28.587500</td>\n",
       "      <td>28.070000</td>\n",
       "      <td>28.350000</td>\n",
       "      <td>28.362499</td>\n",
       "      <td>1.830836e+08</td>\n",
       "      <td>26.159094</td>\n",
       "    </tr>\n",
       "    <tr>\n",
       "      <th>75%</th>\n",
       "      <td>49.092499</td>\n",
       "      <td>48.192501</td>\n",
       "      <td>48.674999</td>\n",
       "      <td>48.547501</td>\n",
       "      <td>3.693956e+08</td>\n",
       "      <td>47.439812</td>\n",
       "    </tr>\n",
       "    <tr>\n",
       "      <th>max</th>\n",
       "      <td>182.940002</td>\n",
       "      <td>179.119995</td>\n",
       "      <td>182.630005</td>\n",
       "      <td>182.009995</td>\n",
       "      <td>1.880998e+09</td>\n",
       "      <td>182.009995</td>\n",
       "    </tr>\n",
       "  </tbody>\n",
       "</table>\n",
       "</div>"
      ],
      "text/plain": [
       "              High          Low         Open        Close        Volume  \\\n",
       "count  3037.000000  3037.000000  3037.000000  3037.000000  3.037000e+03   \n",
       "mean     43.778134    42.879305    43.326172    43.345497  2.694334e+08   \n",
       "std      39.487830    38.581318    39.026410    39.050877  2.256903e+08   \n",
       "min       7.000000     6.794643     6.870357     6.858929  4.100000e+07   \n",
       "25%      18.676071    18.371786    18.535713    18.557501  1.090784e+08   \n",
       "50%      28.587500    28.070000    28.350000    28.362499  1.830836e+08   \n",
       "75%      49.092499    48.192501    48.674999    48.547501  3.693956e+08   \n",
       "max     182.940002   179.119995   182.630005   182.009995  1.880998e+09   \n",
       "\n",
       "         Adj Close  \n",
       "count  3037.000000  \n",
       "mean     41.623141  \n",
       "std      39.578424  \n",
       "min       5.880607  \n",
       "25%      16.236658  \n",
       "50%      26.159094  \n",
       "75%      47.439812  \n",
       "max     182.009995  "
      ]
     },
     "execution_count": 8,
     "metadata": {},
     "output_type": "execute_result"
    }
   ],
   "source": [
    "# Summery stats for  Stock\n",
    "stock.describe()"
   ]
  },
  {
   "cell_type": "code",
   "execution_count": 9,
   "metadata": {},
   "outputs": [
    {
     "name": "stdout",
     "output_type": "stream",
     "text": [
      "<class 'pandas.core.frame.DataFrame'>\n",
      "DatetimeIndex: 3037 entries, 2009-12-31 to 2022-01-24\n",
      "Data columns (total 6 columns):\n",
      " #   Column     Non-Null Count  Dtype  \n",
      "---  ------     --------------  -----  \n",
      " 0   High       3037 non-null   float64\n",
      " 1   Low        3037 non-null   float64\n",
      " 2   Open       3037 non-null   float64\n",
      " 3   Close      3037 non-null   float64\n",
      " 4   Volume     3037 non-null   float64\n",
      " 5   Adj Close  3037 non-null   float64\n",
      "dtypes: float64(6)\n",
      "memory usage: 166.1 KB\n"
     ]
    }
   ],
   "source": [
    "# General Info\n",
    "stock.info()"
   ]
  },
  {
   "cell_type": "code",
   "execution_count": 10,
   "metadata": {},
   "outputs": [
    {
     "data": {
      "text/plain": [
       "<AxesSubplot:xlabel='Date'>"
      ]
     },
     "execution_count": 10,
     "metadata": {},
     "output_type": "execute_result"
    },
    {
     "data": {
      "image/png": "[encoded data removed]",
      "text/plain": [
       "<Figure size 720x288 with 1 Axes>"
      ]
     },
     "metadata": {
      "needs_background": "light"
     },
     "output_type": "display_data"
    }
   ],
   "source": [
    "\n",
    "# Let's see a historical view of the closing price\n",
    "stock['Close'].plot(legend=True, figsize=(10,4))"
   ]
  },
  {
   "cell_type": "code",
   "execution_count": 11,
   "metadata": {},
   "outputs": [
    {
     "data": {
      "text/plain": [
       "<AxesSubplot:xlabel='Date'>"
      ]
     },
     "execution_count": 11,
     "metadata": {},
     "output_type": "execute_result"
    },
    {
     "data": {
      "image/png": "[encoded data removed]",
      "text/plain": [
       "<Figure size 720x288 with 1 Axes>"
      ]
     },
     "metadata": {
      "needs_background": "light"
     },
     "output_type": "display_data"
    }
   ],
   "source": [
    "\n",
    "# Now let's plot the total volume of stock being traded each day over the past year\n",
    "\n",
    "stock['Volume'].plot(legend=True, figsize=(10,4))"
   ]
  },
  {
   "cell_type": "code",
   "execution_count": 12,
   "metadata": {},
   "outputs": [],
   "source": [
    "#lets now calaculate the moving Average \n",
    "#Moving averages are usually calculated to identify the trend direction\n",
    "#A 10-day moving average would average out the closing prices for the first 10 days as the first data point.\n",
    "# The next data point would drop the earliest price,\n",
    "# add the price on day 11 and take the average.\n",
    "#lets calcuate the moving Average of the first 50 , 100 , 200 day \n",
    "# Pandas has a built-in rolling mean calculator \n",
    "\n",
    "# Let's go ahead and plot out several moving averages\n",
    "MA_day = [50,100,200]\n",
    "\n",
    "for ma in MA_day:\n",
    "    column_name = 'MA for %s days' %(str(ma))\n",
    "    stock[column_name] = stock['Close'].rolling(ma).mean()"
   ]
  },
  {
   "cell_type": "code",
   "execution_count": 13,
   "metadata": {},
   "outputs": [
    {
     "data": {
      "text/plain": [
       "<AxesSubplot:xlabel='Date'>"
      ]
     },
     "execution_count": 13,
     "metadata": {},
     "output_type": "execute_result"
    },
    {
     "data": {
      "image/png": "[encoded data removed]",
      "text/plain": [
       "<Figure size 720x288 with 1 Axes>"
      ]
     },
     "metadata": {
      "needs_background": "light"
     },
     "output_type": "display_data"
    }
   ],
   "source": [
    "stock[['Close','MA for 50 days','MA for 100 days','MA for 200 days']].plot(subplots=False, \n",
    "    figsize=(10,4))   #if the 50 day is higher than 100 ,200 then this means that the trend is good if the 200 is higher than 50 and higher then thir is a downgrade "
   ]
  },
  {
   "cell_type": "markdown",
   "metadata": {},
   "source": [
    "Daily return analysis \n",
    "\n",
    "We're now going to analyze the risk of the stock.In order to do so, we need to take a closer look at the daily changes of the stock,"
   ]
  },
  {
   "cell_type": "code",
   "execution_count": 14,
   "metadata": {},
   "outputs": [
    {
     "data": {
      "text/plain": [
       "<AxesSubplot:xlabel='Date'>"
      ]
     },
     "execution_count": 14,
     "metadata": {},
     "output_type": "execute_result"
    },
    {
     "data": {
      "image/png": "[encoded data removed]",
      "text/plain": [
       "<Figure size 864x288 with 1 Axes>"
      ]
     },
     "metadata": {
      "needs_background": "light"
     },
     "output_type": "display_data"
    }
   ],
   "source": [
    "#daily return analysis \n",
    "#we will use the pct_change to find the percentage change for each day \n",
    "stock['Daily Return'] = stock['Close'].pct_change()\n",
    "#lets visulaize the daily return \n",
    "stock['Daily Return'].plot(figsize=(12,4), legend=True, linestyle='--', marker='o')"
   ]
  },
  {
   "cell_type": "code",
   "execution_count": 15,
   "metadata": {},
   "outputs": [
    {
     "data": {
      "text/plain": [
       "(3037, 10)"
      ]
     },
     "execution_count": 15,
     "metadata": {},
     "output_type": "execute_result"
    }
   ],
   "source": [
    "stock.shape"
   ]
  },
  {
   "cell_type": "code",
   "execution_count": 16,
   "metadata": {},
   "outputs": [
    {
     "data": {
      "text/plain": [
       "High               float64\n",
       "Low                float64\n",
       "Open               float64\n",
       "Close              float64\n",
       "Volume             float64\n",
       "Adj Close          float64\n",
       "MA for 50 days     float64\n",
       "MA for 100 days    float64\n",
       "MA for 200 days    float64\n",
       "Daily Return       float64\n",
       "dtype: object"
      ]
     },
     "execution_count": 16,
     "metadata": {},
     "output_type": "execute_result"
    }
   ],
   "source": [
    "stock.dtypes"
   ]
  },
  {
   "cell_type": "markdown",
   "metadata": {},
   "source": [
    "spiliting the dataset into training and testing \n"
   ]
  },
  {
   "cell_type": "code",
   "execution_count": 17,
   "metadata": {},
   "outputs": [],
   "source": [
    "# #we will predicting on our close column \n",
    "# data_training = pd.DataFrame(stock['Close'][0:int(len(stock)*0.70)])#starting at 0 index i want to go till 70 % of data for training \n",
    "# #\n",
    "# data_testing = pd.DataFrame(stock['Close'][0:int(len(stock)*0.30)]) #testing 30% of the dataset \n"
   ]
  },
  {
   "cell_type": "code",
   "execution_count": 18,
   "metadata": {},
   "outputs": [],
   "source": [
    "data_training = pd.DataFrame(stock['Close'][0:int(len(stock)*0.70)])#starting at 0 index i want to go till 70 % of data for training \n",
    "#\n",
    "data_testing = pd.DataFrame(stock['Close'][ int(len(stock)*0.70):int(len(stock))]) #the rest of data is used for testing \n",
    "\n"
   ]
  },
  {
   "cell_type": "code",
   "execution_count": 19,
   "metadata": {},
   "outputs": [
    {
     "name": "stdout",
     "output_type": "stream",
     "text": [
      "(2125, 1)\n",
      "(912, 1)\n"
     ]
    }
   ],
   "source": [
    "print(data_training.shape)\n",
    "print(data_testing.shape )\n"
   ]
  },
  {
   "cell_type": "code",
   "execution_count": 20,
   "metadata": {},
   "outputs": [
    {
     "name": "stdout",
     "output_type": "stream",
     "text": [
      "               Close\n",
      "Date                \n",
      "2009-12-31  7.526071\n",
      "2010-01-04  7.643214\n",
      "2010-01-05  7.656429\n",
      "2010-01-06  7.534643\n",
      "2010-01-07  7.520714\n"
     ]
    }
   ],
   "source": [
    "print(data_training.head())"
   ]
  },
  {
   "cell_type": "code",
   "execution_count": 21,
   "metadata": {},
   "outputs": [
    {
     "name": "stdout",
     "output_type": "stream",
     "text": [
      "                Close\n",
      "Date                 \n",
      "2018-06-12  48.070000\n",
      "2018-06-13  47.674999\n",
      "2018-06-14  47.700001\n",
      "2018-06-15  47.209999\n",
      "2018-06-18  47.185001\n"
     ]
    }
   ],
   "source": [
    "print(data_testing.head())"
   ]
  },
  {
   "cell_type": "code",
   "execution_count": 22,
   "metadata": {},
   "outputs": [
    {
     "name": "stdout",
     "output_type": "stream",
     "text": [
      "                 Close\n",
      "Date                  \n",
      "2022-01-18  169.800003\n",
      "2022-01-19  166.229996\n",
      "2022-01-20  164.509995\n",
      "2022-01-21  162.410004\n",
      "2022-01-24  161.619995\n"
     ]
    }
   ],
   "source": [
    "print(data_testing.tail())"
   ]
  },
  {
   "cell_type": "code",
   "execution_count": 23,
   "metadata": {},
   "outputs": [],
   "source": [
    "#lets scale our dataset \n",
    "from sklearn.preprocessing import MinMaxScaler\n",
    "scaler = MinMaxScaler(feature_range=(0,1))\n"
   ]
  },
  {
   "cell_type": "code",
   "execution_count": 24,
   "metadata": {},
   "outputs": [
    {
     "data": {
      "text/plain": [
       "array([[0.01602317],\n",
       "       [0.01883667],\n",
       "       [0.01915406],\n",
       "       ...,\n",
       "       [0.99687777],\n",
       "       [0.98630995],\n",
       "       [0.98348787]])"
      ]
     },
     "execution_count": 24,
     "metadata": {},
     "output_type": "execute_result"
    }
   ],
   "source": [
    "data_training_scaled = scaler.fit_transform(data_training)\n",
    "data_training_scaled # we have converted our data train to array "
   ]
  },
  {
   "cell_type": "code",
   "execution_count": 25,
   "metadata": {},
   "outputs": [],
   "source": [
    "#split our training data into xtrain and y train \n",
    "#Creating data stucture with 100 timesteps and 1 output. \n",
    "        #7 timesteps meaning storing trends from 100 days before current day to predict 1 next output\n",
    "x_train=[] #xtrain is our feature class  100 days is xtrain \n",
    "y_train=[] #ytrain is our predicted class .. the value that is suppose to be predicted  101 the 1 data is the ytrain \n",
    "#insert values in this list , \n",
    "for i in range(100,data_training_scaled.shape[0]):#lets define our steps as 100 days , include all  the daat training \n",
    "            x_train.append(data_training_scaled[i-100:i]) #start from 0 that is why its i-100 to i \n",
    "            y_train.append(data_training_scaled[i,0]) \n",
    "#lets convert the xtrain and y train into numpy array  so as to provide this data to our lstm \n",
    "#lets convert the list to array  to feed it into the model\n",
    "x_train = np.asarray(x_train)\n",
    "y_train = np.asarray(y_train)"
   ]
  },
  {
   "cell_type": "code",
   "execution_count": 26,
   "metadata": {},
   "outputs": [
    {
     "name": "stdout",
     "output_type": "stream",
     "text": [
      "(2025, 100, 1)\n"
     ]
    }
   ],
   "source": [
    "print(x_train.shape)\n"
   ]
  },
  {
   "cell_type": "markdown",
   "metadata": {},
   "source": [
    "Machine learning model"
   ]
  },
  {
   "cell_type": "code",
   "execution_count": 27,
   "metadata": {},
   "outputs": [],
   "source": [
    "import keras\n",
    "import tensorflow as tf"
   ]
  },
  {
   "cell_type": "code",
   "execution_count": 28,
   "metadata": {},
   "outputs": [],
   "source": [
    "\n",
    "  #Building Rnn\n",
    "from keras.models import Sequential\n",
    "from keras.layers import Dense\n",
    "from keras.layers import Dropout \n",
    "from keras.layers import LSTM"
   ]
  },
  {
   "cell_type": "code",
   "execution_count": 29,
   "metadata": {},
   "outputs": [],
   "source": [
    "#intialzie the rnn model to sequential  \n",
    "model=Sequential() \n",
    "\n",
    "#Add first LSTM layer\n",
    "model.add(LSTM(units=50, activation = 'relu' , return_sequences=True , input_shape = (x_train.shape[1],1))) \n",
    "#units=no. of neurons in layer\n",
    "#input_shape=(timesteps is 100 and its present at index 1 ,no. of cols/features we have is 1 )\n",
    "#return_seq=True for sending recc memory. For last layer, retrun_seq=False since end of the line\n",
    "model.add(Dropout(0.2))\n",
    "\n",
    "#Add 2nd LSTM layer\n",
    "model.add(LSTM(units=60, activation = 'relu' ,return_sequences=True))\n",
    "model.add(Dropout(0.3))\n",
    "        \n",
    " #Add 3rd LSTM layer\n",
    "model.add(LSTM(units=80, activation = 'relu' , return_sequences=True))\n",
    "model.add(Dropout(0.4))\n",
    "        \n",
    " #Add 4th LSTM layer\n",
    "model.add(LSTM(units=50 ,activation = 'relu' ,))\n",
    "model.add(Dropout(0.5))\n",
    "#Add output layer dense layer connect all the layer \n",
    "model.add(Dense(units=1))"
   ]
  },
  {
   "cell_type": "code",
   "execution_count": 30,
   "metadata": {},
   "outputs": [
    {
     "name": "stdout",
     "output_type": "stream",
     "text": [
      "Model: \"sequential\"\n",
      "_________________________________________________________________\n",
      " Layer (type)                Output Shape              Param #   \n",
      "=================================================================\n",
      " lstm (LSTM)                 (None, 100, 50)           10400     \n",
      "                                                                 \n",
      " dropout (Dropout)           (None, 100, 50)           0         \n",
      "                                                                 \n",
      " lstm_1 (LSTM)               (None, 100, 60)           26640     \n",
      "                                                                 \n",
      " dropout_1 (Dropout)         (None, 100, 60)           0         \n",
      "                                                                 \n",
      " lstm_2 (LSTM)               (None, 100, 80)           45120     \n",
      "                                                                 \n",
      " dropout_2 (Dropout)         (None, 100, 80)           0         \n",
      "                                                                 \n",
      " lstm_3 (LSTM)               (None, 50)                26200     \n",
      "                                                                 \n",
      " dropout_3 (Dropout)         (None, 50)                0         \n",
      "                                                                 \n",
      " dense (Dense)               (None, 1)                 51        \n",
      "                                                                 \n",
      "=================================================================\n",
      "Total params: 108,411\n",
      "Trainable params: 108,411\n",
      "Non-trainable params: 0\n",
      "_________________________________________________________________\n"
     ]
    }
   ],
   "source": [
    "model.summary() #summary of the Rnn model"
   ]
  },
  {
   "cell_type": "code",
   "execution_count": 31,
   "metadata": {},
   "outputs": [
    {
     "name": "stdout",
     "output_type": "stream",
     "text": [
      "Epoch 1/50\n",
      "64/64 [==============================] - 39s 293ms/step - loss: 0.0515 - accuracy: 4.9383e-04\n",
      "Epoch 2/50\n",
      "64/64 [==============================] - 19s 298ms/step - loss: 0.0143 - accuracy: 4.9383e-04\n",
      "Epoch 3/50\n",
      "64/64 [==============================] - 18s 283ms/step - loss: 0.0115 - accuracy: 4.9383e-04\n",
      "Epoch 4/50\n",
      "64/64 [==============================] - 19s 298ms/step - loss: 0.0107 - accuracy: 4.9383e-04\n",
      "Epoch 5/50\n",
      "64/64 [==============================] - 18s 289ms/step - loss: 0.0093 - accuracy: 4.9383e-04\n",
      "Epoch 6/50\n",
      "64/64 [==============================] - 19s 292ms/step - loss: 0.0093 - accuracy: 4.9383e-04\n",
      "Epoch 7/50\n",
      "64/64 [==============================] - 20s 314ms/step - loss: 0.0082 - accuracy: 4.9383e-04\n",
      "Epoch 8/50\n",
      "64/64 [==============================] - 21s 323ms/step - loss: 0.0086 - accuracy: 4.9383e-04\n",
      "Epoch 9/50\n",
      "64/64 [==============================] - 19s 298ms/step - loss: 0.0076 - accuracy: 4.9383e-04\n",
      "Epoch 10/50\n",
      "64/64 [==============================] - 20s 306ms/step - loss: 0.0075 - accuracy: 4.9383e-04\n",
      "Epoch 11/50\n",
      "64/64 [==============================] - 20s 312ms/step - loss: 0.0069 - accuracy: 4.9383e-04\n",
      "Epoch 12/50\n",
      "64/64 [==============================] - 20s 311ms/step - loss: 0.0062 - accuracy: 4.9383e-04\n",
      "Epoch 13/50\n",
      "64/64 [==============================] - 21s 323ms/step - loss: 0.0059 - accuracy: 4.9383e-04\n",
      "Epoch 14/50\n",
      "64/64 [==============================] - 20s 309ms/step - loss: 0.0059 - accuracy: 4.9383e-04\n",
      "Epoch 15/50\n",
      "64/64 [==============================] - 23s 363ms/step - loss: 0.0058 - accuracy: 4.9383e-04\n",
      "Epoch 16/50\n",
      "64/64 [==============================] - 27s 425ms/step - loss: 0.0054 - accuracy: 4.9383e-04\n",
      "Epoch 17/50\n",
      "64/64 [==============================] - 19s 291ms/step - loss: 0.0056 - accuracy: 4.9383e-04\n",
      "Epoch 18/50\n",
      "64/64 [==============================] - 19s 303ms/step - loss: 0.0050 - accuracy: 4.9383e-04\n",
      "Epoch 19/50\n",
      "64/64 [==============================] - 19s 297ms/step - loss: 0.0045 - accuracy: 4.9383e-04\n",
      "Epoch 20/50\n",
      "64/64 [==============================] - 19s 292ms/step - loss: 0.0045 - accuracy: 4.9383e-04\n",
      "Epoch 21/50\n",
      "64/64 [==============================] - 19s 289ms/step - loss: 0.0043 - accuracy: 4.9383e-04\n",
      "Epoch 22/50\n",
      "64/64 [==============================] - 19s 297ms/step - loss: 0.0043 - accuracy: 4.9383e-04\n",
      "Epoch 23/50\n",
      "64/64 [==============================] - 20s 307ms/step - loss: 0.0042 - accuracy: 4.9383e-04\n",
      "Epoch 24/50\n",
      "64/64 [==============================] - 20s 313ms/step - loss: 0.0040 - accuracy: 4.9383e-04\n",
      "Epoch 25/50\n",
      "64/64 [==============================] - 20s 319ms/step - loss: 0.0040 - accuracy: 4.9383e-04\n",
      "Epoch 26/50\n",
      "64/64 [==============================] - 21s 322ms/step - loss: 0.0040 - accuracy: 4.9383e-04\n",
      "Epoch 27/50\n",
      "64/64 [==============================] - 29s 460ms/step - loss: 0.0041 - accuracy: 4.9383e-04\n",
      "Epoch 28/50\n",
      "64/64 [==============================] - 23s 356ms/step - loss: 0.0037 - accuracy: 4.9383e-04\n",
      "Epoch 29/50\n",
      "64/64 [==============================] - 20s 315ms/step - loss: 0.0037 - accuracy: 4.9383e-04\n",
      "Epoch 30/50\n",
      "64/64 [==============================] - 23s 360ms/step - loss: 0.0036 - accuracy: 4.9383e-04\n",
      "Epoch 31/50\n",
      "64/64 [==============================] - 21s 333ms/step - loss: 0.0039 - accuracy: 4.9383e-04\n",
      "Epoch 32/50\n",
      "64/64 [==============================] - 21s 329ms/step - loss: 0.0034 - accuracy: 4.9383e-04\n",
      "Epoch 33/50\n",
      "64/64 [==============================] - 19s 298ms/step - loss: 0.0037 - accuracy: 4.9383e-04\n",
      "Epoch 34/50\n",
      "64/64 [==============================] - 21s 331ms/step - loss: 0.0030 - accuracy: 4.9383e-04\n",
      "Epoch 35/50\n",
      "64/64 [==============================] - 21s 333ms/step - loss: 0.0031 - accuracy: 4.9383e-04\n",
      "Epoch 36/50\n",
      "64/64 [==============================] - 20s 310ms/step - loss: 0.0033 - accuracy: 4.9383e-04\n",
      "Epoch 37/50\n",
      "64/64 [==============================] - 20s 311ms/step - loss: 0.0033 - accuracy: 4.9383e-04\n",
      "Epoch 38/50\n",
      "64/64 [==============================] - 21s 332ms/step - loss: 0.0034 - accuracy: 4.9383e-04\n",
      "Epoch 39/50\n",
      "64/64 [==============================] - 23s 365ms/step - loss: 0.0035 - accuracy: 4.9383e-04\n",
      "Epoch 40/50\n",
      "64/64 [==============================] - 31s 490ms/step - loss: 0.0032 - accuracy: 4.9383e-04\n",
      "Epoch 41/50\n",
      "64/64 [==============================] - 23s 361ms/step - loss: 0.0034 - accuracy: 4.9383e-04\n",
      "Epoch 42/50\n",
      "64/64 [==============================] - 26s 414ms/step - loss: 0.0033 - accuracy: 4.9383e-04\n",
      "Epoch 43/50\n",
      "64/64 [==============================] - 22s 343ms/step - loss: 0.0035 - accuracy: 4.9383e-04\n",
      "Epoch 44/50\n",
      "64/64 [==============================] - 21s 323ms/step - loss: 0.0032 - accuracy: 4.9383e-04\n",
      "Epoch 45/50\n",
      "64/64 [==============================] - 28s 433ms/step - loss: 0.0032 - accuracy: 4.9383e-04\n",
      "Epoch 46/50\n",
      "64/64 [==============================] - 21s 326ms/step - loss: 0.0029 - accuracy: 4.9383e-04\n",
      "Epoch 47/50\n",
      "64/64 [==============================] - 28s 438ms/step - loss: 0.0032 - accuracy: 4.9383e-04\n",
      "Epoch 48/50\n",
      "64/64 [==============================] - 21s 320ms/step - loss: 0.0030 - accuracy: 4.9383e-04\n",
      "Epoch 49/50\n",
      "64/64 [==============================] - 24s 373ms/step - loss: 0.0032 - accuracy: 4.9383e-04\n",
      "Epoch 50/50\n",
      "64/64 [==============================] - 30s 468ms/step - loss: 0.0033 - accuracy: 4.9383e-04\n"
     ]
    },
    {
     "data": {
      "text/plain": [
       "<keras.callbacks.History at 0x14630b726a0>"
      ]
     },
     "execution_count": 31,
     "metadata": {},
     "output_type": "execute_result"
    }
   ],
   "source": [
    "\n",
    "#complile the model \n",
    "\n",
    "model.compile(optimizer='adam',loss='mean_squared_error' , metrics=['accuracy'])\n",
    "        \n",
    "#Training\n",
    "model.fit(x_train , y_train , epochs=50 )\n",
    "\n",
    "        "
   ]
  },
  {
   "cell_type": "code",
   "execution_count": 32,
   "metadata": {},
   "outputs": [],
   "source": [
    "\n",
    "#save our model \n",
    "model.save('keras_model.h5')\n"
   ]
  },
  {
   "cell_type": "code",
   "execution_count": 33,
   "metadata": {},
   "outputs": [],
   "source": [
    "#lets append data training and data testing \n",
    "#we need to have value of the past 100 day that is in data training \n",
    "past_100_days = data_training.tail(100)\n",
    "final_stock= past_100_days.append(data_testing, ignore_index=True)\n",
    " "
   ]
  },
  {
   "cell_type": "code",
   "execution_count": 34,
   "metadata": {},
   "outputs": [],
   "source": [
    "#scale our data testing \n",
    "final_stock_scaled = scaler.fit_transform(final_stock)"
   ]
  },
  {
   "cell_type": "code",
   "execution_count": 35,
   "metadata": {},
   "outputs": [
    {
     "data": {
      "text/plain": [
       "(1012, 1)"
      ]
     },
     "execution_count": 35,
     "metadata": {},
     "output_type": "execute_result"
    }
   ],
   "source": [
    "final_stock_scaled.shape"
   ]
  },
  {
   "cell_type": "code",
   "execution_count": 36,
   "metadata": {},
   "outputs": [
    {
     "name": "stdout",
     "output_type": "stream",
     "text": [
      "(912, 100, 1)\n",
      "(912,)\n"
     ]
    }
   ],
   "source": [
    "#define xtest and ytest from data testing \n",
    "x_test=[]\n",
    "y_test=[]\n",
    "for i in range(100,final_stock_scaled.shape[0]):\n",
    "            x_test.append(final_stock_scaled[i-100:i])\n",
    "            y_test.append(final_stock_scaled[i,0]) \n",
    "#lets convert the list to array \n",
    "x_test = np.array(x_test) \n",
    "y_test = np.array(y_test)   \n",
    "\n",
    "print(x_test.shape)\n",
    "print(y_test.shape)         "
   ]
  },
  {
   "cell_type": "code",
   "execution_count": 37,
   "metadata": {},
   "outputs": [
    {
     "data": {
      "text/plain": [
       "(912, 1)"
      ]
     },
     "execution_count": 37,
     "metadata": {},
     "output_type": "execute_result"
    }
   ],
   "source": [
    "#prediction\n",
    "prediction = model.predict(x_test)\n",
    "\n",
    "prediction .shape \n"
   ]
  },
  {
   "cell_type": "code",
   "execution_count": 38,
   "metadata": {},
   "outputs": [],
   "source": [
    "scaler_factor = 1/0.02862869\n",
    "prediction = prediction *scaler_factor\n",
    "y_test= y_test*scaler_factor"
   ]
  },
  {
   "cell_type": "code",
   "execution_count": 41,
   "metadata": {},
   "outputs": [
    {
     "data": {
      "image/png": "[encoded data removed]",
      "text/plain": [
       "<Figure size 650x260 with 1 Axes>"
      ]
     },
     "metadata": {
      "needs_background": "light"
     },
     "output_type": "display_data"
    }
   ],
   "source": [
    "#lets plot the prediction\n",
    "plt.figure(figsize=(10,4),dpi=65)\n",
    "plt.plot(y_test, 'b' , label='original Price')  \n",
    "plt.plot(prediction , 'r' , label='Predicted Price')\n",
    "plt.xlabel('Time')\n",
    "plt.ylabel('Price')\n",
    "plt.legend()\n",
    "plt.show()"
   ]
  }
 ],
 "metadata": {
  "interpreter": {
   "hash": "b3ba2566441a7c06988d0923437866b63cedc61552a5af99d1f4fb67d367b25f"
  },
  "kernelspec": {
   "display_name": "Python 3.8.8 64-bit ('base': conda)",
   "language": "python",
   "name": "python3"
  },
  "language_info": {
   "codemirror_mode": {
    "name": "ipython",
    "version": 3
   },
   "file_extension": ".py",
   "mimetype": "text/x-python",
   "name": "python",
   "nbconvert_exporter": "python",
   "pygments_lexer": "ipython3",
   "version": "3.8.8"
  },
  "orig_nbformat": 4
 },
 "nbformat": 4,
 "nbformat_minor": 2
}
